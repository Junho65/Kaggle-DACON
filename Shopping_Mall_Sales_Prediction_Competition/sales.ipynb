{
 "cells": [
  {
   "cell_type": "code",
   "execution_count": 1,
   "metadata": {},
   "outputs": [],
   "source": [
    "import numpy as np\n",
    "import pandas as pd\n",
    "import matplotlib.pyplot as plt\n",
    "import seaborn as sns\n",
    "sns.set_style('dark')"
   ]
  },
  {
   "cell_type": "code",
   "execution_count": 2,
   "metadata": {},
   "outputs": [
    {
     "data": {
      "text/html": [
       "<div>\n",
       "<style scoped>\n",
       "    .dataframe tbody tr th:only-of-type {\n",
       "        vertical-align: middle;\n",
       "    }\n",
       "\n",
       "    .dataframe tbody tr th {\n",
       "        vertical-align: top;\n",
       "    }\n",
       "\n",
       "    .dataframe thead th {\n",
       "        text-align: right;\n",
       "    }\n",
       "</style>\n",
       "<table border=\"1\" class=\"dataframe\">\n",
       "  <thead>\n",
       "    <tr style=\"text-align: right;\">\n",
       "      <th></th>\n",
       "      <th>Store</th>\n",
       "      <th>Date</th>\n",
       "      <th>Temperature</th>\n",
       "      <th>Fuel_Price</th>\n",
       "      <th>Promotion1</th>\n",
       "      <th>Promotion2</th>\n",
       "      <th>Promotion3</th>\n",
       "      <th>Promotion4</th>\n",
       "      <th>Promotion5</th>\n",
       "      <th>Unemployment</th>\n",
       "      <th>IsHoliday</th>\n",
       "      <th>Weekly_Sales</th>\n",
       "    </tr>\n",
       "    <tr>\n",
       "      <th>id</th>\n",
       "      <th></th>\n",
       "      <th></th>\n",
       "      <th></th>\n",
       "      <th></th>\n",
       "      <th></th>\n",
       "      <th></th>\n",
       "      <th></th>\n",
       "      <th></th>\n",
       "      <th></th>\n",
       "      <th></th>\n",
       "      <th></th>\n",
       "      <th></th>\n",
       "    </tr>\n",
       "  </thead>\n",
       "  <tbody>\n",
       "    <tr>\n",
       "      <th>1</th>\n",
       "      <td>1</td>\n",
       "      <td>05/02/2010</td>\n",
       "      <td>42.31</td>\n",
       "      <td>2.572</td>\n",
       "      <td>NaN</td>\n",
       "      <td>NaN</td>\n",
       "      <td>NaN</td>\n",
       "      <td>NaN</td>\n",
       "      <td>NaN</td>\n",
       "      <td>8.106</td>\n",
       "      <td>False</td>\n",
       "      <td>1643690.90</td>\n",
       "    </tr>\n",
       "    <tr>\n",
       "      <th>2</th>\n",
       "      <td>1</td>\n",
       "      <td>12/02/2010</td>\n",
       "      <td>38.51</td>\n",
       "      <td>2.548</td>\n",
       "      <td>NaN</td>\n",
       "      <td>NaN</td>\n",
       "      <td>NaN</td>\n",
       "      <td>NaN</td>\n",
       "      <td>NaN</td>\n",
       "      <td>8.106</td>\n",
       "      <td>True</td>\n",
       "      <td>1641957.44</td>\n",
       "    </tr>\n",
       "    <tr>\n",
       "      <th>3</th>\n",
       "      <td>1</td>\n",
       "      <td>19/02/2010</td>\n",
       "      <td>39.93</td>\n",
       "      <td>2.514</td>\n",
       "      <td>NaN</td>\n",
       "      <td>NaN</td>\n",
       "      <td>NaN</td>\n",
       "      <td>NaN</td>\n",
       "      <td>NaN</td>\n",
       "      <td>8.106</td>\n",
       "      <td>False</td>\n",
       "      <td>1611968.17</td>\n",
       "    </tr>\n",
       "    <tr>\n",
       "      <th>4</th>\n",
       "      <td>1</td>\n",
       "      <td>26/02/2010</td>\n",
       "      <td>46.63</td>\n",
       "      <td>2.561</td>\n",
       "      <td>NaN</td>\n",
       "      <td>NaN</td>\n",
       "      <td>NaN</td>\n",
       "      <td>NaN</td>\n",
       "      <td>NaN</td>\n",
       "      <td>8.106</td>\n",
       "      <td>False</td>\n",
       "      <td>1409727.59</td>\n",
       "    </tr>\n",
       "    <tr>\n",
       "      <th>5</th>\n",
       "      <td>1</td>\n",
       "      <td>05/03/2010</td>\n",
       "      <td>46.50</td>\n",
       "      <td>2.625</td>\n",
       "      <td>NaN</td>\n",
       "      <td>NaN</td>\n",
       "      <td>NaN</td>\n",
       "      <td>NaN</td>\n",
       "      <td>NaN</td>\n",
       "      <td>8.106</td>\n",
       "      <td>False</td>\n",
       "      <td>1554806.68</td>\n",
       "    </tr>\n",
       "  </tbody>\n",
       "</table>\n",
       "</div>"
      ],
      "text/plain": [
       "    Store        Date  Temperature  Fuel_Price  Promotion1  Promotion2  \\\n",
       "id                                                                       \n",
       "1       1  05/02/2010        42.31       2.572         NaN         NaN   \n",
       "2       1  12/02/2010        38.51       2.548         NaN         NaN   \n",
       "3       1  19/02/2010        39.93       2.514         NaN         NaN   \n",
       "4       1  26/02/2010        46.63       2.561         NaN         NaN   \n",
       "5       1  05/03/2010        46.50       2.625         NaN         NaN   \n",
       "\n",
       "    Promotion3  Promotion4  Promotion5  Unemployment  IsHoliday  Weekly_Sales  \n",
       "id                                                                             \n",
       "1          NaN         NaN         NaN         8.106      False    1643690.90  \n",
       "2          NaN         NaN         NaN         8.106       True    1641957.44  \n",
       "3          NaN         NaN         NaN         8.106      False    1611968.17  \n",
       "4          NaN         NaN         NaN         8.106      False    1409727.59  \n",
       "5          NaN         NaN         NaN         8.106      False    1554806.68  "
      ]
     },
     "execution_count": 2,
     "metadata": {},
     "output_type": "execute_result"
    }
   ],
   "source": [
    "store_sales=pd.read_csv('train.csv',index_col=0)\n",
    "store_sales_test=pd.read_csv('test.csv',index_col=0)\n",
    "store_sales.head()"
   ]
  },
  {
   "cell_type": "code",
   "execution_count": 3,
   "metadata": {},
   "outputs": [
    {
     "name": "stdout",
     "output_type": "stream",
     "text": [
      "<class 'pandas.core.frame.DataFrame'>\n",
      "Int64Index: 6255 entries, 1 to 6255\n",
      "Data columns (total 12 columns):\n",
      " #   Column        Non-Null Count  Dtype  \n",
      "---  ------        --------------  -----  \n",
      " 0   Store         6255 non-null   int64  \n",
      " 1   Date          6255 non-null   object \n",
      " 2   Temperature   6255 non-null   float64\n",
      " 3   Fuel_Price    6255 non-null   float64\n",
      " 4   Promotion1    2102 non-null   float64\n",
      " 5   Promotion2    1592 non-null   float64\n",
      " 6   Promotion3    1885 non-null   float64\n",
      " 7   Promotion4    1819 non-null   float64\n",
      " 8   Promotion5    2115 non-null   float64\n",
      " 9   Unemployment  6255 non-null   float64\n",
      " 10  IsHoliday     6255 non-null   bool   \n",
      " 11  Weekly_Sales  6255 non-null   float64\n",
      "dtypes: bool(1), float64(9), int64(1), object(1)\n",
      "memory usage: 592.5+ KB\n"
     ]
    }
   ],
   "source": [
    "store_sales.info()"
   ]
  },
  {
   "cell_type": "code",
   "execution_count": 4,
   "metadata": {},
   "outputs": [
    {
     "data": {
      "text/plain": [
       "Store              0\n",
       "Date               0\n",
       "Temperature        0\n",
       "Fuel_Price         0\n",
       "Promotion1      4153\n",
       "Promotion2      4663\n",
       "Promotion3      4370\n",
       "Promotion4      4436\n",
       "Promotion5      4140\n",
       "Unemployment       0\n",
       "IsHoliday          0\n",
       "Weekly_Sales       0\n",
       "dtype: int64"
      ]
     },
     "execution_count": 4,
     "metadata": {},
     "output_type": "execute_result"
    }
   ],
   "source": [
    "store_sales.isnull().sum()"
   ]
  },
  {
   "cell_type": "code",
   "execution_count": 5,
   "metadata": {},
   "outputs": [],
   "source": [
    "store_sales['Date']=pd.to_datetime(store_sales['Date'])"
   ]
  },
  {
   "cell_type": "code",
   "execution_count": 6,
   "metadata": {},
   "outputs": [
    {
     "data": {
      "text/plain": [
       "array([ 1,  2,  3,  4,  5,  6,  7,  8,  9, 10, 11, 12, 13, 14, 15, 16, 17,\n",
       "       18, 19, 20, 21, 22, 23, 24, 25, 26, 27, 28, 29, 30, 31, 32, 33, 34,\n",
       "       35, 36, 37, 38, 39, 40, 41, 42, 43, 44, 45], dtype=int64)"
      ]
     },
     "execution_count": 6,
     "metadata": {},
     "output_type": "execute_result"
    }
   ],
   "source": [
    "store_sales.Store.unique()"
   ]
  },
  {
   "cell_type": "markdown",
   "metadata": {},
   "source": [
    "### promotion column exploration"
   ]
  },
  {
   "cell_type": "code",
   "execution_count": 7,
   "metadata": {},
   "outputs": [
    {
     "name": "stderr",
     "output_type": "stream",
     "text": [
      "c:\\Users\\Administrator\\AppData\\Local\\Programs\\Python\\Python39\\lib\\site-packages\\seaborn\\_decorators.py:36: FutureWarning: Pass the following variables as keyword args: x, y. From version 0.12, the only valid positional argument will be `data`, and passing other arguments without an explicit keyword will result in an error or misinterpretation.\n",
      "  warnings.warn(\n"
     ]
    },
    {
     "data": {
      "text/plain": [
       "<seaborn.axisgrid.FacetGrid at 0x265d69afc10>"
      ]
     },
     "execution_count": 7,
     "metadata": {},
     "output_type": "execute_result"
    },
    {
     "data": {
      "image/png": "[encoded data removed]",
      "text/plain": [
       "<Figure size 420.625x360 with 1 Axes>"
      ]
     },
     "metadata": {},
     "output_type": "display_data"
    }
   ],
   "source": [
    "tmpDF=store_sales.dropna()\n",
    "sns.lmplot('Temperature','Promotion5',data=tmpDF,hue='IsHoliday')"
   ]
  },
  {
   "cell_type": "markdown",
   "metadata": {},
   "source": [
    "## without promotion column"
   ]
  },
  {
   "cell_type": "code",
   "execution_count": 8,
   "metadata": {},
   "outputs": [],
   "source": [
    "store_sales_no_promotion=store_sales.drop(['Promotion1',\\\n",
    "    'Promotion2',\n",
    "    'Promotion3',\n",
    "    'Promotion4',\n",
    "    'Promotion5'],axis=1,inplace=False)"
   ]
  },
  {
   "cell_type": "code",
   "execution_count": 9,
   "metadata": {},
   "outputs": [],
   "source": [
    "labels_no_promotion=store_sales_no_promotion['Weekly_Sales']\n",
    "attribs_no_promotion=store_sales_no_promotion.drop('Weekly_Sales',axis=1,inplace=False)"
   ]
  },
  {
   "cell_type": "code",
   "execution_count": 10,
   "metadata": {},
   "outputs": [],
   "source": [
    "from sklearn.model_selection import train_test_split\n",
    "\n",
    "X_train,X_test,y_train,y_test=train_test_split(attribs_no_promotion,labels_no_promotion,test_size=.2,random_state=42)"
   ]
  },
  {
   "cell_type": "code",
   "execution_count": 11,
   "metadata": {},
   "outputs": [
    {
     "data": {
      "text/plain": [
       "((5004, 6), (1251, 6))"
      ]
     },
     "execution_count": 11,
     "metadata": {},
     "output_type": "execute_result"
    }
   ],
   "source": [
    "X_train.shape,X_test.shape"
   ]
  },
  {
   "cell_type": "code",
   "execution_count": 12,
   "metadata": {},
   "outputs": [
    {
     "data": {
      "text/plain": [
       "Store           0\n",
       "Date            0\n",
       "Temperature     0\n",
       "Fuel_Price      0\n",
       "Unemployment    0\n",
       "IsHoliday       0\n",
       "dtype: int64"
      ]
     },
     "execution_count": 12,
     "metadata": {},
     "output_type": "execute_result"
    }
   ],
   "source": [
    "X_train.isnull().sum()"
   ]
  },
  {
   "cell_type": "code",
   "execution_count": 13,
   "metadata": {},
   "outputs": [],
   "source": [
    "from sklearn.preprocessing import OneHotEncoder\n",
    "from sklearn.preprocessing import OrdinalEncoder\n",
    "from sklearn.impute import SimpleImputer\n",
    "from sklearn.pipeline import Pipeline\n",
    "from sklearn.compose import ColumnTransformer\n",
    "from sklearn.base import BaseEstimator,TransformerMixin\n",
    "\n",
    "class LogScaler(BaseEstimator,TransformerMixin):\n",
    "    def fit(self,X,y=None):\n",
    "        return self\n",
    "    def transform(self,X):\n",
    "        return np.log1p(X)"
   ]
  },
  {
   "cell_type": "code",
   "execution_count": 14,
   "metadata": {},
   "outputs": [
    {
     "data": {
      "text/plain": [
       "Store           0\n",
       "Date            0\n",
       "Temperature     0\n",
       "Fuel_Price      0\n",
       "Unemployment    0\n",
       "IsHoliday       0\n",
       "dtype: int64"
      ]
     },
     "execution_count": 14,
     "metadata": {},
     "output_type": "execute_result"
    }
   ],
   "source": [
    "X_train.isnull().sum()"
   ]
  },
  {
   "cell_type": "code",
   "execution_count": 15,
   "metadata": {},
   "outputs": [],
   "source": [
    "from sklearn.preprocessing import StandardScaler"
   ]
  },
  {
   "cell_type": "code",
   "execution_count": 16,
   "metadata": {},
   "outputs": [],
   "source": [
    "num_attribs=['Temperature','Fuel_Price','Unemployment']\n",
    "bool_attribs=['IsHoliday']\n",
    "\n",
    "num_pipeline=Pipeline([\n",
    "    ('imputer',SimpleImputer(strategy='median')),\n",
    "    ('std_scaler',StandardScaler()),\n",
    "])\n",
    "\n",
    "bool_pipeline=Pipeline([\n",
    "    ('encoder',OrdinalEncoder()),\n",
    "])"
   ]
  },
  {
   "cell_type": "code",
   "execution_count": 17,
   "metadata": {},
   "outputs": [],
   "source": [
    "X_train_num=num_pipeline.fit_transform(X_train[num_attribs])\n",
    "X_train_bool=bool_pipeline.fit_transform(X_train[bool_attribs])"
   ]
  },
  {
   "cell_type": "code",
   "execution_count": 18,
   "metadata": {},
   "outputs": [
    {
     "data": {
      "text/plain": [
       "array([[ 3.        ,  0.91069769,  0.71121179, -0.91623119,  0.        ],\n",
       "       [23.        , -1.33492533, -0.83597071, -1.48545498,  0.        ],\n",
       "       [13.        , -0.39527128, -0.95228372,  0.04769792,  0.        ],\n",
       "       ...,\n",
       "       [38.        ,  1.47599185,  1.25327431,  2.98134792,  1.        ],\n",
       "       [39.        ,  0.19147618,  0.63220672, -0.42149036,  0.        ],\n",
       "       [ 7.        ,  0.0654381 , -1.43070327,  0.54243874,  0.        ]])"
      ]
     },
     "execution_count": 18,
     "metadata": {},
     "output_type": "execute_result"
    }
   ],
   "source": [
    "X_train_prepared=np.c_[X_train['Store'],X_train_num,X_train_bool]\n",
    "X_train_prepared"
   ]
  },
  {
   "cell_type": "code",
   "execution_count": 19,
   "metadata": {},
   "outputs": [
    {
     "data": {
      "text/plain": [
       "0    0\n",
       "1    0\n",
       "2    0\n",
       "3    0\n",
       "4    0\n",
       "dtype: int64"
      ]
     },
     "execution_count": 19,
     "metadata": {},
     "output_type": "execute_result"
    }
   ],
   "source": [
    "pd.DataFrame(X_train_prepared).isnull().sum()"
   ]
  },
  {
   "cell_type": "markdown",
   "metadata": {},
   "source": [
    "### model selection"
   ]
  },
  {
   "cell_type": "code",
   "execution_count": 20,
   "metadata": {},
   "outputs": [],
   "source": [
    "# model load\n",
    "from sklearn.ensemble import RandomForestRegressor\n",
    "from sklearn.tree import ExtraTreeRegressor\n",
    "from lightgbm import LGBMRegressor"
   ]
  },
  {
   "cell_type": "code",
   "execution_count": 21,
   "metadata": {},
   "outputs": [],
   "source": [
    "# load evaluation metrics\n",
    "from sklearn.metrics import f1_score,confusion_matrix,accuracy_score"
   ]
  },
  {
   "cell_type": "code",
   "execution_count": 22,
   "metadata": {},
   "outputs": [],
   "source": [
    "from sklearn.model_selection import cross_val_score"
   ]
  },
  {
   "cell_type": "code",
   "execution_count": 33,
   "metadata": {},
   "outputs": [],
   "source": [
    "rf_reg=RandomForestRegressor(n_estimators=500)\n",
    "xt_reg=ExtraTreeRegressor()\n",
    "lgbm_reg=LGBMRegressor()\n",
    "\n",
    "scores=cross_val_score(rf_reg,X_train_prepared,y_train,cv=5,scoring='neg_mean_squared_error',error_score='raise')\n",
    "rmse_scores=np.sqrt(-1*scores)"
   ]
  },
  {
   "cell_type": "code",
   "execution_count": 24,
   "metadata": {},
   "outputs": [
    {
     "data": {
      "text/plain": [
       "156303.24489939254"
      ]
     },
     "execution_count": 24,
     "metadata": {},
     "output_type": "execute_result"
    }
   ],
   "source": [
    "avg_rmse_scores=rmse_scores.mean()\n",
    "avg_rmse_scores"
   ]
  },
  {
   "cell_type": "code",
   "execution_count": 25,
   "metadata": {},
   "outputs": [],
   "source": [
    "X_test_num=num_pipeline.fit_transform(X_test[num_attribs])\n",
    "X_test_bool=bool_pipeline.fit_transform(X_test[bool_attribs])\n",
    "X_test_prepared=np.c_[X_test['Store'],X_test_num,X_test_bool]"
   ]
  },
  {
   "cell_type": "code",
   "execution_count": 26,
   "metadata": {},
   "outputs": [
    {
     "data": {
      "text/plain": [
       "199317.13727575185"
      ]
     },
     "execution_count": 26,
     "metadata": {},
     "output_type": "execute_result"
    }
   ],
   "source": [
    "test_scores=cross_val_score(rf_reg,X_test_prepared,y_test,cv=5,scoring='neg_mean_squared_error')\n",
    "rmse_scores_test=np.sqrt(-1*test_scores)\n",
    "avg_rmse_scores_test=rmse_scores_test.mean()\n",
    "avg_rmse_scores_test"
   ]
  },
  {
   "cell_type": "code",
   "execution_count": 43,
   "metadata": {},
   "outputs": [
    {
     "data": {
      "text/plain": [
       "219949.9574327074"
      ]
     },
     "execution_count": 43,
     "metadata": {},
     "output_type": "execute_result"
    }
   ],
   "source": [
    "xt_scores=cross_val_score(xt_reg,X_train_prepared,y_train,cv=5,scoring='neg_mean_squared_error',error_score='raise')\n",
    "rmse_scores_xt=np.sqrt(-1*xt_scores)\n",
    "avg_rmse_scores_xt=rmse_scores_xt.mean()\n",
    "avg_rmse_scores_xt"
   ]
  },
  {
   "cell_type": "code",
   "execution_count": 44,
   "metadata": {},
   "outputs": [
    {
     "data": {
      "text/plain": [
       "138679.3882842064"
      ]
     },
     "execution_count": 44,
     "metadata": {},
     "output_type": "execute_result"
    }
   ],
   "source": [
    "lgbm_scores=cross_val_score(lgbm_reg,X_train_prepared,y_train,cv=5,scoring='neg_mean_squared_error',error_score='raise')\n",
    "rmse_scores_lgbm=np.sqrt(-1*lgbm_scores)\n",
    "avg_rmse_scores_lgbm=rmse_scores_lgbm.mean()\n",
    "avg_rmse_scores_lgbm"
   ]
  },
  {
   "cell_type": "markdown",
   "metadata": {},
   "source": [
    "### learning curve visualize"
   ]
  },
  {
   "cell_type": "code",
   "execution_count": 40,
   "metadata": {},
   "outputs": [],
   "source": [
    "from sklearn.model_selection import learning_curve\n",
    "\n",
    "def plot_learning_curve(\n",
    "    estimator,\n",
    "    title,\n",
    "    X,\n",
    "    y,\n",
    "    scoring,\n",
    "    axes=None,\n",
    "    ylim=None,\n",
    "    cv=None,\n",
    "    n_jobs=None,\n",
    "    train_sizes=np.linspace(0.1, 1.0, 5),\n",
    "):\n",
    "    fig,axes=plt.subplots(1,1,figsize=(7,7))\n",
    "    axes.set_title(title)\n",
    "    axes.set_xlabel(\"number of examples\")\n",
    "    axes.set_ylabel(\"score\")\n",
    "\n",
    "    train_sizes,train_scores,test_scores,fit_times,_=learning_curve(\n",
    "        estimator,\n",
    "        X,\n",
    "        y,\n",
    "        cv=cv,\n",
    "        n_jobs=n_jobs,\n",
    "        scoring=scoring,\n",
    "        train_sizes=train_sizes,\n",
    "        return_times=True\n",
    "    )\n",
    "\n",
    "    train_scores_mean=-1*np.mean(train_scores,axis=1)\n",
    "    test_scores_mean=-1*np.mean(test_scores,axis=1)\n",
    "\n",
    "    axes.plot(\n",
    "        train_sizes,train_scores_mean,\"o-\",color=\"r\",label=\"training score\"\n",
    "    )\n",
    "    axes.plot(\n",
    "        train_sizes,test_scores_mean,\"o-\",color=\"g\",label=\"cross val score\"\n",
    "    )\n",
    "    axes.legend(loc=\"best\")\n",
    "    return plt"
   ]
  },
  {
   "cell_type": "code",
   "execution_count": 42,
   "metadata": {},
   "outputs": [
    {
     "data": {
      "text/plain": [
       "<module 'matplotlib.pyplot' from 'c:\\\\Users\\\\Administrator\\\\AppData\\\\Local\\\\Programs\\\\Python\\\\Python39\\\\lib\\\\site-packages\\\\matplotlib\\\\pyplot.py'>"
      ]
     },
     "execution_count": 42,
     "metadata": {},
     "output_type": "execute_result"
    },
    {
     "data": {
      "image/png": "[encoded data removed]",
      "text/plain": [
       "<Figure size 504x504 with 1 Axes>"
      ]
     },
     "metadata": {},
     "output_type": "display_data"
    }
   ],
   "source": [
    "plot_learning_curve(\n",
    "    rf_reg,\"learning_curve\",X_train_prepared,y_train,scoring='neg_mean_squared_error',n_jobs=-1\n",
    ")"
   ]
  },
  {
   "cell_type": "markdown",
   "metadata": {},
   "source": [
    "## with promotion column"
   ]
  },
  {
   "cell_type": "code",
   "execution_count": null,
   "metadata": {},
   "outputs": [],
   "source": [
    "from sklearn.impute import SimpleImputer\n",
    "\n",
    "imputer=SimpleImputer()"
   ]
  },
  {
   "cell_type": "markdown",
   "metadata": {},
   "source": [
    "## Submission"
   ]
  },
  {
   "cell_type": "code",
   "execution_count": 45,
   "metadata": {},
   "outputs": [
    {
     "data": {
      "text/html": [
       "<div>\n",
       "<style scoped>\n",
       "    .dataframe tbody tr th:only-of-type {\n",
       "        vertical-align: middle;\n",
       "    }\n",
       "\n",
       "    .dataframe tbody tr th {\n",
       "        vertical-align: top;\n",
       "    }\n",
       "\n",
       "    .dataframe thead th {\n",
       "        text-align: right;\n",
       "    }\n",
       "</style>\n",
       "<table border=\"1\" class=\"dataframe\">\n",
       "  <thead>\n",
       "    <tr style=\"text-align: right;\">\n",
       "      <th></th>\n",
       "      <th>id</th>\n",
       "      <th>Weekly_Sales</th>\n",
       "    </tr>\n",
       "  </thead>\n",
       "  <tbody>\n",
       "    <tr>\n",
       "      <th>0</th>\n",
       "      <td>1</td>\n",
       "      <td>0</td>\n",
       "    </tr>\n",
       "    <tr>\n",
       "      <th>1</th>\n",
       "      <td>2</td>\n",
       "      <td>0</td>\n",
       "    </tr>\n",
       "    <tr>\n",
       "      <th>2</th>\n",
       "      <td>3</td>\n",
       "      <td>0</td>\n",
       "    </tr>\n",
       "    <tr>\n",
       "      <th>3</th>\n",
       "      <td>4</td>\n",
       "      <td>0</td>\n",
       "    </tr>\n",
       "    <tr>\n",
       "      <th>4</th>\n",
       "      <td>5</td>\n",
       "      <td>0</td>\n",
       "    </tr>\n",
       "    <tr>\n",
       "      <th>...</th>\n",
       "      <td>...</td>\n",
       "      <td>...</td>\n",
       "    </tr>\n",
       "    <tr>\n",
       "      <th>175</th>\n",
       "      <td>176</td>\n",
       "      <td>0</td>\n",
       "    </tr>\n",
       "    <tr>\n",
       "      <th>176</th>\n",
       "      <td>177</td>\n",
       "      <td>0</td>\n",
       "    </tr>\n",
       "    <tr>\n",
       "      <th>177</th>\n",
       "      <td>178</td>\n",
       "      <td>0</td>\n",
       "    </tr>\n",
       "    <tr>\n",
       "      <th>178</th>\n",
       "      <td>179</td>\n",
       "      <td>0</td>\n",
       "    </tr>\n",
       "    <tr>\n",
       "      <th>179</th>\n",
       "      <td>180</td>\n",
       "      <td>0</td>\n",
       "    </tr>\n",
       "  </tbody>\n",
       "</table>\n",
       "<p>180 rows × 2 columns</p>\n",
       "</div>"
      ],
      "text/plain": [
       "      id  Weekly_Sales\n",
       "0      1             0\n",
       "1      2             0\n",
       "2      3             0\n",
       "3      4             0\n",
       "4      5             0\n",
       "..   ...           ...\n",
       "175  176             0\n",
       "176  177             0\n",
       "177  178             0\n",
       "178  179             0\n",
       "179  180             0\n",
       "\n",
       "[180 rows x 2 columns]"
      ]
     },
     "execution_count": 45,
     "metadata": {},
     "output_type": "execute_result"
    }
   ],
   "source": [
    "sample_submission=pd.read_csv('sample_submission.csv')\n",
    "sample_submission"
   ]
  },
  {
   "cell_type": "code",
   "execution_count": 46,
   "metadata": {},
   "outputs": [
    {
     "data": {
      "text/html": [
       "<div>\n",
       "<style scoped>\n",
       "    .dataframe tbody tr th:only-of-type {\n",
       "        vertical-align: middle;\n",
       "    }\n",
       "\n",
       "    .dataframe tbody tr th {\n",
       "        vertical-align: top;\n",
       "    }\n",
       "\n",
       "    .dataframe thead th {\n",
       "        text-align: right;\n",
       "    }\n",
       "</style>\n",
       "<table border=\"1\" class=\"dataframe\">\n",
       "  <thead>\n",
       "    <tr style=\"text-align: right;\">\n",
       "      <th></th>\n",
       "      <th>Store</th>\n",
       "      <th>Date</th>\n",
       "      <th>Temperature</th>\n",
       "      <th>Fuel_Price</th>\n",
       "      <th>Promotion1</th>\n",
       "      <th>Promotion2</th>\n",
       "      <th>Promotion3</th>\n",
       "      <th>Promotion4</th>\n",
       "      <th>Promotion5</th>\n",
       "      <th>Unemployment</th>\n",
       "      <th>IsHoliday</th>\n",
       "    </tr>\n",
       "    <tr>\n",
       "      <th>id</th>\n",
       "      <th></th>\n",
       "      <th></th>\n",
       "      <th></th>\n",
       "      <th></th>\n",
       "      <th></th>\n",
       "      <th></th>\n",
       "      <th></th>\n",
       "      <th></th>\n",
       "      <th></th>\n",
       "      <th></th>\n",
       "      <th></th>\n",
       "    </tr>\n",
       "  </thead>\n",
       "  <tbody>\n",
       "    <tr>\n",
       "      <th>1</th>\n",
       "      <td>1</td>\n",
       "      <td>05/10/2012</td>\n",
       "      <td>68.55</td>\n",
       "      <td>3.617</td>\n",
       "      <td>8077.89</td>\n",
       "      <td>NaN</td>\n",
       "      <td>18.22</td>\n",
       "      <td>3617.43</td>\n",
       "      <td>3626.14</td>\n",
       "      <td>6.573</td>\n",
       "      <td>False</td>\n",
       "    </tr>\n",
       "    <tr>\n",
       "      <th>2</th>\n",
       "      <td>1</td>\n",
       "      <td>12/10/2012</td>\n",
       "      <td>62.99</td>\n",
       "      <td>3.601</td>\n",
       "      <td>2086.18</td>\n",
       "      <td>NaN</td>\n",
       "      <td>8.11</td>\n",
       "      <td>602.36</td>\n",
       "      <td>5926.45</td>\n",
       "      <td>6.573</td>\n",
       "      <td>False</td>\n",
       "    </tr>\n",
       "    <tr>\n",
       "      <th>3</th>\n",
       "      <td>1</td>\n",
       "      <td>19/10/2012</td>\n",
       "      <td>67.97</td>\n",
       "      <td>3.594</td>\n",
       "      <td>950.33</td>\n",
       "      <td>NaN</td>\n",
       "      <td>4.93</td>\n",
       "      <td>80.25</td>\n",
       "      <td>2312.85</td>\n",
       "      <td>6.573</td>\n",
       "      <td>False</td>\n",
       "    </tr>\n",
       "    <tr>\n",
       "      <th>4</th>\n",
       "      <td>1</td>\n",
       "      <td>26/10/2012</td>\n",
       "      <td>69.16</td>\n",
       "      <td>3.506</td>\n",
       "      <td>2585.85</td>\n",
       "      <td>31.75</td>\n",
       "      <td>6.00</td>\n",
       "      <td>1057.16</td>\n",
       "      <td>1305.01</td>\n",
       "      <td>6.573</td>\n",
       "      <td>False</td>\n",
       "    </tr>\n",
       "    <tr>\n",
       "      <th>5</th>\n",
       "      <td>2</td>\n",
       "      <td>05/10/2012</td>\n",
       "      <td>70.27</td>\n",
       "      <td>3.617</td>\n",
       "      <td>6037.76</td>\n",
       "      <td>NaN</td>\n",
       "      <td>10.04</td>\n",
       "      <td>3027.37</td>\n",
       "      <td>3853.40</td>\n",
       "      <td>6.170</td>\n",
       "      <td>False</td>\n",
       "    </tr>\n",
       "    <tr>\n",
       "      <th>...</th>\n",
       "      <td>...</td>\n",
       "      <td>...</td>\n",
       "      <td>...</td>\n",
       "      <td>...</td>\n",
       "      <td>...</td>\n",
       "      <td>...</td>\n",
       "      <td>...</td>\n",
       "      <td>...</td>\n",
       "      <td>...</td>\n",
       "      <td>...</td>\n",
       "      <td>...</td>\n",
       "    </tr>\n",
       "    <tr>\n",
       "      <th>176</th>\n",
       "      <td>44</td>\n",
       "      <td>26/10/2012</td>\n",
       "      <td>46.97</td>\n",
       "      <td>3.755</td>\n",
       "      <td>38.65</td>\n",
       "      <td>2.61</td>\n",
       "      <td>0.98</td>\n",
       "      <td>NaN</td>\n",
       "      <td>457.74</td>\n",
       "      <td>5.217</td>\n",
       "      <td>False</td>\n",
       "    </tr>\n",
       "    <tr>\n",
       "      <th>177</th>\n",
       "      <td>45</td>\n",
       "      <td>05/10/2012</td>\n",
       "      <td>64.89</td>\n",
       "      <td>3.985</td>\n",
       "      <td>5046.74</td>\n",
       "      <td>NaN</td>\n",
       "      <td>18.82</td>\n",
       "      <td>2253.43</td>\n",
       "      <td>2340.01</td>\n",
       "      <td>8.667</td>\n",
       "      <td>False</td>\n",
       "    </tr>\n",
       "    <tr>\n",
       "      <th>178</th>\n",
       "      <td>45</td>\n",
       "      <td>12/10/2012</td>\n",
       "      <td>54.47</td>\n",
       "      <td>4.000</td>\n",
       "      <td>1956.28</td>\n",
       "      <td>NaN</td>\n",
       "      <td>7.89</td>\n",
       "      <td>599.32</td>\n",
       "      <td>3990.54</td>\n",
       "      <td>8.667</td>\n",
       "      <td>False</td>\n",
       "    </tr>\n",
       "    <tr>\n",
       "      <th>179</th>\n",
       "      <td>45</td>\n",
       "      <td>19/10/2012</td>\n",
       "      <td>56.47</td>\n",
       "      <td>3.969</td>\n",
       "      <td>2004.02</td>\n",
       "      <td>NaN</td>\n",
       "      <td>3.18</td>\n",
       "      <td>437.73</td>\n",
       "      <td>1537.49</td>\n",
       "      <td>8.667</td>\n",
       "      <td>False</td>\n",
       "    </tr>\n",
       "    <tr>\n",
       "      <th>180</th>\n",
       "      <td>45</td>\n",
       "      <td>26/10/2012</td>\n",
       "      <td>58.85</td>\n",
       "      <td>3.882</td>\n",
       "      <td>4018.91</td>\n",
       "      <td>58.08</td>\n",
       "      <td>100.00</td>\n",
       "      <td>211.94</td>\n",
       "      <td>858.33</td>\n",
       "      <td>8.667</td>\n",
       "      <td>False</td>\n",
       "    </tr>\n",
       "  </tbody>\n",
       "</table>\n",
       "<p>180 rows × 11 columns</p>\n",
       "</div>"
      ],
      "text/plain": [
       "     Store        Date  Temperature  Fuel_Price  Promotion1  Promotion2  \\\n",
       "id                                                                        \n",
       "1        1  05/10/2012        68.55       3.617     8077.89         NaN   \n",
       "2        1  12/10/2012        62.99       3.601     2086.18         NaN   \n",
       "3        1  19/10/2012        67.97       3.594      950.33         NaN   \n",
       "4        1  26/10/2012        69.16       3.506     2585.85       31.75   \n",
       "5        2  05/10/2012        70.27       3.617     6037.76         NaN   \n",
       "..     ...         ...          ...         ...         ...         ...   \n",
       "176     44  26/10/2012        46.97       3.755       38.65        2.61   \n",
       "177     45  05/10/2012        64.89       3.985     5046.74         NaN   \n",
       "178     45  12/10/2012        54.47       4.000     1956.28         NaN   \n",
       "179     45  19/10/2012        56.47       3.969     2004.02         NaN   \n",
       "180     45  26/10/2012        58.85       3.882     4018.91       58.08   \n",
       "\n",
       "     Promotion3  Promotion4  Promotion5  Unemployment  IsHoliday  \n",
       "id                                                                \n",
       "1         18.22     3617.43     3626.14         6.573      False  \n",
       "2          8.11      602.36     5926.45         6.573      False  \n",
       "3          4.93       80.25     2312.85         6.573      False  \n",
       "4          6.00     1057.16     1305.01         6.573      False  \n",
       "5         10.04     3027.37     3853.40         6.170      False  \n",
       "..          ...         ...         ...           ...        ...  \n",
       "176        0.98         NaN      457.74         5.217      False  \n",
       "177       18.82     2253.43     2340.01         8.667      False  \n",
       "178        7.89      599.32     3990.54         8.667      False  \n",
       "179        3.18      437.73     1537.49         8.667      False  \n",
       "180      100.00      211.94      858.33         8.667      False  \n",
       "\n",
       "[180 rows x 11 columns]"
      ]
     },
     "execution_count": 46,
     "metadata": {},
     "output_type": "execute_result"
    }
   ],
   "source": [
    "store_sales_test"
   ]
  },
  {
   "cell_type": "code",
   "execution_count": 47,
   "metadata": {},
   "outputs": [],
   "source": [
    "store_sales_test.drop(['Date','Promotion1','Promotion2','Promotion3','Promotion4','Promotion5'],axis=1,inplace=True)"
   ]
  },
  {
   "cell_type": "code",
   "execution_count": 48,
   "metadata": {},
   "outputs": [],
   "source": [
    "store_sales_test_num=num_pipeline.fit_transform(store_sales_test[num_attribs])\n",
    "store_sales_test_bool=bool_pipeline.fit_transform(store_sales_test[bool_attribs])"
   ]
  },
  {
   "cell_type": "code",
   "execution_count": 49,
   "metadata": {},
   "outputs": [
    {
     "data": {
      "text/plain": [
       "array([[ 1.00000000e+00,  6.74419920e-01, -8.63005671e-01,\n",
       "        -2.39531334e-01,  0.00000000e+00],\n",
       "       [ 1.00000000e+00,  1.41171288e-01, -9.21425140e-01,\n",
       "        -2.39531334e-01,  0.00000000e+00],\n",
       "       [ 1.00000000e+00,  6.18793264e-01, -9.46983658e-01,\n",
       "        -2.39531334e-01,  0.00000000e+00],\n",
       "       [ 1.00000000e+00,  7.32923817e-01, -1.26829074e+00,\n",
       "        -2.39531334e-01,  0.00000000e+00],\n",
       "       [ 2.00000000e+00,  8.39381727e-01, -8.63005671e-01,\n",
       "        -4.93086129e-01,  0.00000000e+00],\n",
       "       [ 2.00000000e+00, -5.25629272e-02, -9.21425140e-01,\n",
       "        -4.93086129e-01,  0.00000000e+00],\n",
       "       [ 2.00000000e+00,  6.29343147e-01, -9.46983658e-01,\n",
       "        -4.93086129e-01,  0.00000000e+00],\n",
       "       [ 2.00000000e+00,  7.93345874e-01, -1.26829074e+00,\n",
       "        -4.93086129e-01,  0.00000000e+00],\n",
       "       [ 3.00000000e+00,  1.07627455e+00, -8.63005671e-01,\n",
       "        -5.78653008e-01,  0.00000000e+00],\n",
       "       [ 3.00000000e+00,  8.43218048e-01, -9.21425140e-01,\n",
       "        -5.78653008e-01,  0.00000000e+00],\n",
       "       [ 3.00000000e+00,  1.14341017e+00, -9.46983658e-01,\n",
       "        -5.78653008e-01,  0.00000000e+00],\n",
       "       [ 3.00000000e+00,  1.26041797e+00, -1.26829074e+00,\n",
       "        -5.78653008e-01,  0.00000000e+00],\n",
       "       [ 4.00000000e+00,  1.48843930e-01, -8.52052020e-01,\n",
       "        -1.93451053e+00,  0.00000000e+00],\n",
       "       [ 4.00000000e+00, -4.22767913e-01, -9.14122706e-01,\n",
       "        -1.93451053e+00,  0.00000000e+00],\n",
       "       [ 4.00000000e+00,  2.82156088e-01, -8.88564188e-01,\n",
       "        -1.93451053e+00,  0.00000000e+00],\n",
       "       [ 4.00000000e+00,  2.03511506e-01, -1.23908101e+00,\n",
       "        -1.93451053e+00,  0.00000000e+00],\n",
       "       [ 5.00000000e+00,  9.25698952e-01, -8.63005671e-01,\n",
       "        -9.63703962e-01,  0.00000000e+00],\n",
       "       [ 5.00000000e+00,  4.52872377e-01, -9.21425140e-01,\n",
       "        -9.63703962e-01,  0.00000000e+00],\n",
       "       [ 5.00000000e+00,  7.33882897e-01, -9.46983658e-01,\n",
       "        -9.63703962e-01,  0.00000000e+00],\n",
       "       [ 5.00000000e+00,  9.76530206e-01, -1.26829074e+00,\n",
       "        -9.63703962e-01,  0.00000000e+00],\n",
       "       [ 6.00000000e+00,  8.94049303e-01, -8.63005671e-01,\n",
       "        -1.02221661e+00,  0.00000000e+00],\n",
       "       [ 6.00000000e+00,  3.75186875e-01, -9.21425140e-01,\n",
       "        -1.02221661e+00,  0.00000000e+00],\n",
       "       [ 6.00000000e+00,  7.82795991e-01, -9.46983658e-01,\n",
       "        -1.02221661e+00,  0.00000000e+00],\n",
       "       [ 6.00000000e+00,  1.03791134e+00, -1.26829074e+00,\n",
       "        -1.02221661e+00,  0.00000000e+00],\n",
       "       [ 7.00000000e+00, -1.25524959e+00, -2.71508542e-01,\n",
       "         3.79570200e-01,  0.00000000e+00],\n",
       "       [ 7.00000000e+00, -1.92660578e+00, -3.40881662e-01,\n",
       "         3.79570200e-01,  0.00000000e+00],\n",
       "       [ 7.00000000e+00, -1.77507110e+00, -3.77393830e-01,\n",
       "         3.79570200e-01,  0.00000000e+00],\n",
       "       [ 7.00000000e+00, -1.82110695e+00, -6.11071708e-01,\n",
       "         3.79570200e-01,  0.00000000e+00],\n",
       "       [ 8.00000000e+00, -1.03633952e-02, -8.63005671e-01,\n",
       "        -1.15119609e+00,  0.00000000e+00],\n",
       "       [ 8.00000000e+00, -6.22256610e-01, -9.21425140e-01,\n",
       "        -1.15119609e+00,  0.00000000e+00],\n",
       "       [ 8.00000000e+00,  1.41171288e-01, -9.46983658e-01,\n",
       "        -1.15119609e+00,  0.00000000e+00],\n",
       "       [ 8.00000000e+00,  3.09010336e-01, -1.26829074e+00,\n",
       "        -1.15119609e+00,  0.00000000e+00],\n",
       "       [ 9.00000000e+00,  4.88358347e-01, -8.63005671e-01,\n",
       "        -1.25815469e+00,  0.00000000e+00],\n",
       "       [ 9.00000000e+00, -1.36961991e-01, -9.21425140e-01,\n",
       "        -1.25815469e+00,  0.00000000e+00],\n",
       "       [ 9.00000000e+00,  6.22629585e-01, -9.46983658e-01,\n",
       "        -1.25815469e+00,  0.00000000e+00],\n",
       "       [ 9.00000000e+00,  7.67450707e-01, -1.26829074e+00,\n",
       "        -1.25815469e+00,  0.00000000e+00],\n",
       "       [ 1.00000000e+01,  1.85696590e+00,  1.01737101e+00,\n",
       "        -6.73909077e-03,  0.00000000e+00],\n",
       "       [ 1.00000000e+01,  1.39181196e+00,  2.24417987e+00,\n",
       "        -6.73909077e-03,  0.00000000e+00],\n",
       "       [ 1.00000000e+01,  1.07339731e+00,  2.17480675e+00,\n",
       "        -6.73909077e-03,  0.00000000e+00],\n",
       "       [ 1.00000000e+01,  8.61440573e-01,  1.63442665e+00,\n",
       "        -6.73909077e-03,  0.00000000e+00],\n",
       "       [ 1.10000000e+01,  1.13669661e+00, -8.63005671e-01,\n",
       "        -5.78653008e-01,  0.00000000e+00],\n",
       "       [ 1.10000000e+01,  8.07732078e-01, -9.21425140e-01,\n",
       "        -5.78653008e-01,  0.00000000e+00],\n",
       "       [ 1.10000000e+01,  1.17505982e+00, -9.46983658e-01,\n",
       "        -5.78653008e-01,  0.00000000e+00],\n",
       "       [ 1.10000000e+01,  1.22205476e+00, -1.26829074e+00,\n",
       "        -5.78653008e-01,  0.00000000e+00],\n",
       "       [ 1.20000000e+01,  1.92697876e+00,  4.11269009e-01,\n",
       "         2.04183265e+00,  0.00000000e+00],\n",
       "       [ 1.20000000e+01,  9.80366527e-01,  2.24417987e+00,\n",
       "         2.04183265e+00,  0.00000000e+00],\n",
       "       [ 1.20000000e+01,  6.84969803e-01,  2.17480675e+00,\n",
       "         2.04183265e+00,  0.00000000e+00],\n",
       "       [ 1.20000000e+01,  4.25059049e-01,  1.63442665e+00,\n",
       "         2.04183265e+00,  0.00000000e+00],\n",
       "       [ 1.30000000e+01,  2.60816552e-02, -1.40064735e-01,\n",
       "        -8.38499485e-01,  0.00000000e+00],\n",
       "       [ 1.30000000e+01, -6.15543048e-01, -2.05786638e-01,\n",
       "        -8.38499485e-01,  0.00000000e+00],\n",
       "       [ 1.30000000e+01, -9.07103451e-01, -2.64206108e-01,\n",
       "        -8.38499485e-01,  0.00000000e+00],\n",
       "       [ 1.30000000e+01, -1.39527531e+00, -3.59137746e-01,\n",
       "        -8.38499485e-01,  0.00000000e+00],\n",
       "       [ 1.40000000e+01,  3.23396540e-01,  4.80642129e-01,\n",
       "         1.07794693e+00,  0.00000000e+00],\n",
       "       [ 1.40000000e+01, -6.75965105e-01,  5.35410381e-01,\n",
       "         1.07794693e+00,  0.00000000e+00],\n",
       "       [ 1.40000000e+01, -4.84149050e-01,  4.22222659e-01,\n",
       "         1.07794693e+00,  0.00000000e+00],\n",
       "       [ 1.40000000e+01, -2.55887945e-01,  1.04566794e-01,\n",
       "         1.07794693e+00,  0.00000000e+00],\n",
       "       [ 1.50000000e+01, -1.86834165e-01,  1.08674413e+00,\n",
       "         6.53258378e-01,  0.00000000e+00],\n",
       "       [ 1.50000000e+01, -1.18907305e+00,  1.21453671e+00,\n",
       "         6.53258378e-01,  0.00000000e+00],\n",
       "       [ 1.50000000e+01, -8.27499788e-01,  1.09404656e+00,\n",
       "         6.53258378e-01,  0.00000000e+00],\n",
       "       [ 1.50000000e+01, -5.53202830e-01,  7.94646777e-01,\n",
       "         6.53258378e-01,  0.00000000e+00],\n",
       "       [ 1.60000000e+01, -1.06055629e+00, -2.71508542e-01,\n",
       "        -6.96307466e-01,  0.00000000e+00],\n",
       "       [ 1.60000000e+01, -1.75109409e+00, -3.40881662e-01,\n",
       "        -6.96307466e-01,  0.00000000e+00],\n",
       "       [ 1.60000000e+01, -2.00716852e+00, -3.77393830e-01,\n",
       "        -6.96307466e-01,  0.00000000e+00],\n",
       "       [ 1.60000000e+01, -1.96880531e+00, -6.11071708e-01,\n",
       "        -6.96307466e-01,  0.00000000e+00],\n",
       "       [ 1.70000000e+01, -8.35172430e-01, -1.40064735e-01,\n",
       "        -8.97641298e-01,  0.00000000e+00],\n",
       "       [ 1.70000000e+01, -1.60147757e+00, -2.05786638e-01,\n",
       "        -8.97641298e-01,  0.00000000e+00],\n",
       "       [ 1.70000000e+01, -1.28114476e+00, -2.64206108e-01,\n",
       "        -8.97641298e-01,  0.00000000e+00],\n",
       "       [ 1.70000000e+01, -2.06950874e+00, -3.59137746e-01,\n",
       "        -8.97641298e-01,  0.00000000e+00],\n",
       "       [ 1.80000000e+01, -1.76284282e-01,  6.33993236e-01,\n",
       "         8.11179603e-01,  0.00000000e+00],\n",
       "       [ 1.80000000e+01, -1.01164320e+00,  6.41295670e-01,\n",
       "         8.11179603e-01,  0.00000000e+00],\n",
       "       [ 1.80000000e+01, -9.16694254e-01,  5.35410381e-01,\n",
       "         8.11179603e-01,  0.00000000e+00],\n",
       "       [ 1.80000000e+01, -5.20594101e-01,  2.32359383e-01,\n",
       "         8.11179603e-01,  0.00000000e+00],\n",
       "       [ 1.90000000e+01, -1.59020838e-01,  1.08674413e+00,\n",
       "         6.53258378e-01,  0.00000000e+00],\n",
       "       [ 1.90000000e+01, -1.26867671e+00,  1.21453671e+00,\n",
       "         6.53258378e-01,  0.00000000e+00],\n",
       "       [ 1.90000000e+01, -7.74750373e-01,  1.09404656e+00,\n",
       "         6.53258378e-01,  0.00000000e+00],\n",
       "       [ 1.90000000e+01, -4.82230890e-01,  7.94646777e-01,\n",
       "         6.53258378e-01,  0.00000000e+00],\n",
       "       [ 2.00000000e+01, -7.17445327e-02,  4.80642129e-01,\n",
       "         2.13469788e-01,  0.00000000e+00],\n",
       "       [ 2.00000000e+01, -1.37321646e+00,  5.35410381e-01,\n",
       "         2.13469788e-01,  0.00000000e+00],\n",
       "       [ 2.00000000e+01, -5.04289736e-01,  4.22222659e-01,\n",
       "         2.13469788e-01,  0.00000000e+00],\n",
       "       [ 2.00000000e+01, -1.41757393e-01,  1.04566794e-01,\n",
       "         2.13469788e-01,  0.00000000e+00],\n",
       "       [ 2.10000000e+01,  8.40340807e-01, -8.63005671e-01,\n",
       "        -4.93086129e-01,  0.00000000e+00],\n",
       "       [ 2.10000000e+01,  1.14556810e-03, -9.21425140e-01,\n",
       "        -4.93086129e-01,  0.00000000e+00],\n",
       "       [ 2.10000000e+01,  6.71542679e-01, -9.46983658e-01,\n",
       "        -4.93086129e-01,  0.00000000e+00],\n",
       "       [ 2.10000000e+01,  8.61440573e-01, -1.26829074e+00,\n",
       "        -4.93086129e-01,  0.00000000e+00],\n",
       "       [ 2.20000000e+01,  5.48540634e-02,  6.33993236e-01,\n",
       "         3.70761845e-01,  0.00000000e+00],\n",
       "       [ 2.20000000e+01, -7.03778433e-01,  6.41295670e-01,\n",
       "         3.70761845e-01,  0.00000000e+00],\n",
       "       [ 2.20000000e+01, -5.98279603e-01,  5.35410381e-01,\n",
       "         3.70761845e-01,  0.00000000e+00],\n",
       "       [ 2.20000000e+01, -3.77691140e-01,  2.32359383e-01,\n",
       "         3.70761845e-01,  0.00000000e+00],\n",
       "       [ 2.30000000e+01, -4.66885605e-01,  6.33993236e-01,\n",
       "        -1.76715179e+00,  0.00000000e+00],\n",
       "       [ 2.30000000e+01, -1.28689924e+00,  6.41295670e-01,\n",
       "        -1.76715179e+00,  0.00000000e+00],\n",
       "       [ 2.30000000e+01, -1.30703992e+00,  5.35410381e-01,\n",
       "        -1.76715179e+00,  0.00000000e+00],\n",
       "       [ 2.30000000e+01, -1.05096549e+00,  2.32359383e-01,\n",
       "        -1.76715179e+00,  0.00000000e+00],\n",
       "       [ 2.40000000e+01, -1.12025904e-01,  1.08674413e+00,\n",
       "         1.09430530e+00,  0.00000000e+00],\n",
       "       [ 2.40000000e+01, -9.47384822e-01,  1.21453671e+00,\n",
       "         1.09430530e+00,  0.00000000e+00],\n",
       "       [ 2.40000000e+01, -8.56272196e-01,  1.09404656e+00,\n",
       "         1.09430530e+00,  0.00000000e+00],\n",
       "       [ 2.40000000e+01, -6.09788566e-01,  7.94646777e-01,\n",
       "         1.09430530e+00,  0.00000000e+00],\n",
       "       [ 2.50000000e+01, -3.77691140e-01,  4.80642129e-01,\n",
       "         2.13469788e-01,  0.00000000e+00],\n",
       "       [ 2.50000000e+01, -1.70505824e+00,  5.35410381e-01,\n",
       "         2.13469788e-01,  0.00000000e+00],\n",
       "       [ 2.50000000e+01, -9.19571494e-01,  4.22222659e-01,\n",
       "         2.13469788e-01,  0.00000000e+00],\n",
       "       [ 2.50000000e+01, -4.63049284e-01,  1.04566794e-01,\n",
       "         2.13469788e-01,  0.00000000e+00],\n",
       "       [ 2.60000000e+01, -7.14328316e-01,  6.33993236e-01,\n",
       "         1.15948713e-01,  0.00000000e+00],\n",
       "       [ 2.60000000e+01, -1.56599160e+00,  6.41295670e-01,\n",
       "         1.15948713e-01,  0.00000000e+00],\n",
       "       [ 2.60000000e+01, -1.72711708e+00,  5.35410381e-01,\n",
       "         1.15948713e-01,  0.00000000e+00],\n",
       "       [ 2.60000000e+01, -1.39719347e+00,  2.32359383e-01,\n",
       "         1.15948713e-01,  0.00000000e+00],\n",
       "       [ 2.70000000e+01,  2.85992409e-01,  1.08674413e+00,\n",
       "         6.58291724e-01,  0.00000000e+00],\n",
       "       [ 2.70000000e+01, -5.86770640e-01,  1.21453671e+00,\n",
       "         6.58291724e-01,  0.00000000e+00],\n",
       "       [ 2.70000000e+01, -4.78394569e-01,  1.09404656e+00,\n",
       "         6.58291724e-01,  0.00000000e+00],\n",
       "       [ 2.70000000e+01, -2.42460821e-01,  7.94646777e-01,\n",
       "         6.58291724e-01,  0.00000000e+00],\n",
       "       [ 2.80000000e+01,  1.92697876e+00,  4.11269009e-01,\n",
       "         2.04183265e+00,  0.00000000e+00],\n",
       "       [ 2.80000000e+01,  9.80366527e-01,  2.24417987e+00,\n",
       "         2.04183265e+00,  0.00000000e+00],\n",
       "       [ 2.80000000e+01,  6.84969803e-01,  2.17480675e+00,\n",
       "         2.04183265e+00,  0.00000000e+00],\n",
       "       [ 2.80000000e+01,  4.25059049e-01,  1.63442665e+00,\n",
       "         2.04183265e+00,  0.00000000e+00],\n",
       "       [ 2.90000000e+01,  5.48540634e-02,  6.33993236e-01,\n",
       "         1.38246435e+00,  0.00000000e+00],\n",
       "       [ 2.90000000e+01, -7.03778433e-01,  6.41295670e-01,\n",
       "         1.38246435e+00,  0.00000000e+00],\n",
       "       [ 2.90000000e+01, -5.98279603e-01,  5.35410381e-01,\n",
       "         1.38246435e+00,  0.00000000e+00],\n",
       "       [ 2.90000000e+01, -3.77691140e-01,  2.32359383e-01,\n",
       "         1.38246435e+00,  0.00000000e+00],\n",
       "       [ 3.00000000e+01,  8.40340807e-01, -8.63005671e-01,\n",
       "        -4.93086129e-01,  0.00000000e+00],\n",
       "       [ 3.00000000e+01,  1.14556810e-03, -9.21425140e-01,\n",
       "        -4.93086129e-01,  0.00000000e+00],\n",
       "       [ 3.00000000e+01,  6.71542679e-01, -9.46983658e-01,\n",
       "        -4.93086129e-01,  0.00000000e+00],\n",
       "       [ 3.00000000e+01,  8.61440573e-01, -1.26829074e+00,\n",
       "        -4.93086129e-01,  0.00000000e+00],\n",
       "       [ 3.10000000e+01,  8.40340807e-01, -8.63005671e-01,\n",
       "        -4.93086129e-01,  0.00000000e+00],\n",
       "       [ 3.10000000e+01,  1.14556810e-03, -9.21425140e-01,\n",
       "        -4.93086129e-01,  0.00000000e+00],\n",
       "       [ 3.10000000e+01,  6.71542679e-01, -9.46983658e-01,\n",
       "        -4.93086129e-01,  0.00000000e+00],\n",
       "       [ 3.10000000e+01,  8.61440573e-01, -1.26829074e+00,\n",
       "        -4.93086129e-01,  0.00000000e+00],\n",
       "       [ 3.20000000e+01, -5.92525121e-01, -2.71508542e-01,\n",
       "         3.79570200e-01,  0.00000000e+00],\n",
       "       [ 3.20000000e+01, -1.72903525e+00, -3.40881662e-01,\n",
       "         3.79570200e-01,  0.00000000e+00],\n",
       "       [ 3.20000000e+01, -7.62282330e-01, -3.77393830e-01,\n",
       "         3.79570200e-01,  0.00000000e+00],\n",
       "       [ 3.20000000e+01, -1.37129830e+00, -6.11071708e-01,\n",
       "         3.79570200e-01,  0.00000000e+00],\n",
       "       [ 3.30000000e+01,  2.26937041e+00,  1.01737101e+00,\n",
       "        -3.69391656e-02,  0.00000000e+00],\n",
       "       [ 3.30000000e+01,  1.73803994e+00,  2.24417987e+00,\n",
       "        -3.69391656e-02,  0.00000000e+00],\n",
       "       [ 3.30000000e+01,  1.34577611e+00,  2.17480675e+00,\n",
       "        -3.69391656e-02,  0.00000000e+00],\n",
       "       [ 3.30000000e+01,  1.16834626e+00,  1.63442665e+00,\n",
       "        -3.69391656e-02,  0.00000000e+00],\n",
       "       [ 3.40000000e+01,  3.73268714e-01, -8.52052020e-01,\n",
       "         1.18616387e+00,  0.00000000e+00],\n",
       "       [ 3.40000000e+01, -1.51348195e-01, -9.14122706e-01,\n",
       "         1.18616387e+00,  0.00000000e+00],\n",
       "       [ 3.40000000e+01, -2.92332996e-01, -8.88564188e-01,\n",
       "         1.18616387e+00,  0.00000000e+00],\n",
       "       [ 3.40000000e+01, -3.42205170e-01, -1.23908101e+00,\n",
       "         1.18616387e+00,  0.00000000e+00],\n",
       "       [ 3.50000000e+01,  2.85992409e-01,  4.80642129e-01,\n",
       "         1.07668859e+00,  0.00000000e+00],\n",
       "       [ 3.50000000e+01, -5.86770640e-01,  5.35410381e-01,\n",
       "         1.07668859e+00,  0.00000000e+00],\n",
       "       [ 3.50000000e+01, -4.78394569e-01,  4.22222659e-01,\n",
       "         1.07668859e+00,  0.00000000e+00],\n",
       "       [ 3.50000000e+01, -2.42460821e-01,  1.04566794e-01,\n",
       "         1.07668859e+00,  0.00000000e+00],\n",
       "       [ 3.60000000e+01,  1.15587822e+00, -8.84912972e-01,\n",
       "        -4.56594372e-01,  0.00000000e+00],\n",
       "       [ 3.60000000e+01,  9.36248835e-01, -1.01270556e+00,\n",
       "        -4.56594372e-01,  0.00000000e+00],\n",
       "       [ 3.60000000e+01,  1.20287315e+00, -1.03461286e+00,\n",
       "        -4.56594372e-01,  0.00000000e+00],\n",
       "       [ 3.60000000e+01,  1.23452280e+00, -1.31210534e+00,\n",
       "        -4.56594372e-01,  0.00000000e+00],\n",
       "       [ 3.70000000e+01,  1.15587822e+00, -8.63005671e-01,\n",
       "        -4.56594372e-01,  0.00000000e+00],\n",
       "       [ 3.70000000e+01,  9.36248835e-01, -9.21425140e-01,\n",
       "        -4.56594372e-01,  0.00000000e+00],\n",
       "       [ 3.70000000e+01,  1.20287315e+00, -9.46983658e-01,\n",
       "        -4.56594372e-01,  0.00000000e+00],\n",
       "       [ 3.70000000e+01,  1.23452280e+00, -1.26829074e+00,\n",
       "        -4.56594372e-01,  0.00000000e+00],\n",
       "       [ 3.80000000e+01,  1.92697876e+00,  4.11269009e-01,\n",
       "         2.04183265e+00,  0.00000000e+00],\n",
       "       [ 3.80000000e+01,  9.80366527e-01,  2.24417987e+00,\n",
       "         2.04183265e+00,  0.00000000e+00],\n",
       "       [ 3.80000000e+01,  6.84969803e-01,  2.17480675e+00,\n",
       "         2.04183265e+00,  0.00000000e+00],\n",
       "       [ 3.80000000e+01,  4.25059049e-01,  1.63442665e+00,\n",
       "         2.04183265e+00,  0.00000000e+00],\n",
       "       [ 3.90000000e+01,  1.01009802e+00, -8.63005671e-01,\n",
       "        -4.56594372e-01,  0.00000000e+00],\n",
       "       [ 3.90000000e+01,  8.01977596e-01, -9.21425140e-01,\n",
       "        -4.56594372e-01,  0.00000000e+00],\n",
       "       [ 3.90000000e+01,  9.52553199e-01, -9.46983658e-01,\n",
       "        -4.56594372e-01,  0.00000000e+00],\n",
       "       [ 3.90000000e+01,  1.09161984e+00, -1.26829074e+00,\n",
       "        -4.56594372e-01,  0.00000000e+00],\n",
       "       [ 4.00000000e+01, -4.13177110e-01,  6.33993236e-01,\n",
       "        -1.76715179e+00,  0.00000000e+00],\n",
       "       [ 4.00000000e+01, -1.35883026e+00,  6.41295670e-01,\n",
       "        -1.76715179e+00,  0.00000000e+00],\n",
       "       [ 4.00000000e+01, -1.45665645e+00,  5.35410381e-01,\n",
       "        -1.76715179e+00,  0.00000000e+00],\n",
       "       [ 4.00000000e+01, -1.13824180e+00,  2.32359383e-01,\n",
       "        -1.76715179e+00,  0.00000000e+00],\n",
       "       [ 4.10000000e+01, -1.09124686e+00, -2.71508542e-01,\n",
       "        -4.77356924e-01,  0.00000000e+00],\n",
       "       [ 4.10000000e+01, -2.12321724e+00, -3.40881662e-01,\n",
       "        -4.77356924e-01,  0.00000000e+00],\n",
       "       [ 4.10000000e+01, -1.14687352e+00, -3.77393830e-01,\n",
       "        -4.77356924e-01,  0.00000000e+00],\n",
       "       [ 4.10000000e+01, -1.89111981e+00, -6.11071708e-01,\n",
       "        -4.77356924e-01,  0.00000000e+00],\n",
       "       [ 4.20000000e+01,  1.85696590e+00,  1.01737101e+00,\n",
       "        -6.73909077e-03,  0.00000000e+00],\n",
       "       [ 4.20000000e+01,  1.39181196e+00,  2.24417987e+00,\n",
       "        -6.73909077e-03,  0.00000000e+00],\n",
       "       [ 4.20000000e+01,  1.07339731e+00,  2.17480675e+00,\n",
       "        -6.73909077e-03,  0.00000000e+00],\n",
       "       [ 4.20000000e+01,  8.61440573e-01,  1.63442665e+00,\n",
       "        -6.73909077e-03,  0.00000000e+00],\n",
       "       [ 4.30000000e+01,  1.20575039e+00, -8.63005671e-01,\n",
       "         1.18616387e+00,  0.00000000e+00],\n",
       "       [ 4.30000000e+01,  9.22821711e-01, -9.21425140e-01,\n",
       "         1.18616387e+00,  0.00000000e+00],\n",
       "       [ 4.30000000e+01,  9.33371594e-01, -9.46983658e-01,\n",
       "         1.18616387e+00,  0.00000000e+00],\n",
       "       [ 4.30000000e+01,  7.33882897e-01, -1.26829074e+00,\n",
       "         1.18616387e+00,  0.00000000e+00],\n",
       "       [ 4.40000000e+01,  2.60816552e-02, -1.40064735e-01,\n",
       "        -1.09268345e+00,  0.00000000e+00],\n",
       "       [ 4.40000000e+01, -6.15543048e-01, -2.05786638e-01,\n",
       "        -1.09268345e+00,  0.00000000e+00],\n",
       "       [ 4.40000000e+01, -9.07103451e-01, -2.64206108e-01,\n",
       "        -1.09268345e+00,  0.00000000e+00],\n",
       "       [ 4.40000000e+01, -1.39527531e+00, -3.59137746e-01,\n",
       "        -1.09268345e+00,  0.00000000e+00],\n",
       "       [ 4.50000000e+01,  3.23396540e-01,  4.80642129e-01,\n",
       "         1.07794693e+00,  0.00000000e+00],\n",
       "       [ 4.50000000e+01, -6.75965105e-01,  5.35410381e-01,\n",
       "         1.07794693e+00,  0.00000000e+00],\n",
       "       [ 4.50000000e+01, -4.84149050e-01,  4.22222659e-01,\n",
       "         1.07794693e+00,  0.00000000e+00],\n",
       "       [ 4.50000000e+01, -2.55887945e-01,  1.04566794e-01,\n",
       "         1.07794693e+00,  0.00000000e+00]])"
      ]
     },
     "execution_count": 49,
     "metadata": {},
     "output_type": "execute_result"
    }
   ],
   "source": [
    "test_data_prepared=np.c_[store_sales_test['Store'],store_sales_test_num,store_sales_test_bool]\n",
    "test_data_prepared"
   ]
  },
  {
   "cell_type": "code",
   "execution_count": 87,
   "metadata": {},
   "outputs": [
    {
     "data": {
      "text/plain": [
       "array([1547643.37938   , 1536803.25853999, 1595882.2471    ,\n",
       "       1517121.1436    , 1839425.23402   , 1925699.1481    ,\n",
       "       1870021.73342   , 1839285.96672   ,  442145.75776   ,\n",
       "        436417.98612   ,  442630.87694   ,  435848.38736   ,\n",
       "       2961051.04494001, 2971723.99050001, 2969826.54676001,\n",
       "       2950719.05020001,  327019.66476   ,  328290.23898   ,\n",
       "        333490.65136   ,  325424.69292   , 1561098.80132   ,\n",
       "       1569267.6949    , 1580781.97154   , 1717995.306     ,\n",
       "        556128.11502   ,  552729.22632   ,  575373.06706   ,\n",
       "        537548.5608    ,  955977.73922   , 1007501.69348   ,\n",
       "        964410.75718   ,  949888.575     ,  745651.62666   ,\n",
       "        748891.39252   ,  745832.6436    ,  744994.80882   ,\n",
       "       1794205.77868001, 1802545.26252   , 1750397.0046    ,\n",
       "       1799602.85903999, 1334183.12814   , 1320895.34114   ,\n",
       "       1344872.46066   , 1339007.91468   ,  965930.12554   ,\n",
       "       1008172.99464   , 1014627.89376   , 1034226.23338   ,\n",
       "       1980362.15108   , 2044148.15609999, 2040708.86019999,\n",
       "       2033965.92891999, 2585526.20564001, 2593883.29860001,\n",
       "       2573121.86696001, 2588896.82132001,  590711.4925    ,\n",
       "        588611.95514   ,  584059.73656   ,  591238.38568   ,\n",
       "        427333.31356   ,  492327.96936   ,  538485.31672   ,\n",
       "        489124.14194   ,  873907.5133    ,  890992.91456   ,\n",
       "        882009.7305    , 1041346.24964   ,  997115.26184   ,\n",
       "       1013965.57302   , 1046682.3023    , 1349649.32796   ,\n",
       "       1359934.6508    , 1382231.0056    , 1373781.66856   ,\n",
       "       1378154.9066    , 1954562.75374   , 2066842.22272   ,\n",
       "       2095040.0474    , 1975688.44742   ,  689470.18038   ,\n",
       "        661702.16218   ,  688995.32318   ,  688915.43804   ,\n",
       "       1434074.41302   , 1444060.41162   , 1432930.49772   ,\n",
       "       1432053.1707    , 1307102.87746   , 1271810.15944   ,\n",
       "       1310339.90688   , 1327371.73862   , 1334337.05978   ,\n",
       "       1362688.71748   , 1373771.48836   , 1303853.65156   ,\n",
       "       1472577.35064   , 1716051.41526   , 1513399.36794   ,\n",
       "       1439062.08292   , 1118167.82504   , 1117930.45336   ,\n",
       "       1195412.47928   , 1112015.23386   , 1731512.34999999,\n",
       "       1713125.46104   , 1702169.31741999, 1747559.1128    ,\n",
       "       1232921.93428   , 1213383.79448   , 1238534.35398   ,\n",
       "       1352556.53532   ,  620543.6616    ,  641956.9644    ,\n",
       "        626773.6056    ,  631816.59532   ,  439113.248     ,\n",
       "        445781.60672   ,  442789.25348   ,  445552.43524   ,\n",
       "       1360079.70896   , 1414013.31736   , 1425051.40046   ,\n",
       "       1332681.98362   , 1108490.97688   , 1402286.41256   ,\n",
       "       1117210.8113    , 1075619.75282   ,  258367.04226   ,\n",
       "        271710.79544   ,  266576.23608   ,  253529.29486   ,\n",
       "       1004568.52202   , 1035433.2355    , 1018743.08316   ,\n",
       "        983872.40958   ,  929476.81678   ,  933935.71648   ,\n",
       "        923744.17006   , 1040720.6122    ,  323393.46868   ,\n",
       "        323824.16702   ,  322083.38324   ,  321115.04742   ,\n",
       "        501265.36352   ,  508683.99206   ,  501152.1307    ,\n",
       "        504694.2858    ,  419938.24358   ,  430377.95748   ,\n",
       "        436965.87572   ,  434973.15932   , 1916883.99862   ,\n",
       "       1902209.22462   , 1909269.06102   , 1926046.78686   ,\n",
       "        924242.58952   ,  932998.52136   ,  962285.70502   ,\n",
       "        978542.45214   , 1216321.68776   , 1510160.68034   ,\n",
       "       1307934.9251    , 1140460.2585    ,  552599.87582   ,\n",
       "        560047.6747    ,  537444.19038   ,  595492.0638    ,\n",
       "        639786.97498   ,  640199.37424   ,  639968.14186   ,\n",
       "        652563.5714    ,  304543.99798   ,  300238.7645    ,\n",
       "        302253.58562   ,  297049.89344   ,  780766.52006   ,\n",
       "        790324.66356   ,  758978.63368   ,  786048.87804   ])"
      ]
     },
     "execution_count": 87,
     "metadata": {},
     "output_type": "execute_result"
    }
   ],
   "source": [
    "rf_reg.fit(train_set_prepared,train_set_labels)\n",
    "prediction=rf_reg.predict(test_data_prepared)\n",
    "prediction"
   ]
  },
  {
   "cell_type": "code",
   "execution_count": 51,
   "metadata": {},
   "outputs": [
    {
     "data": {
      "text/plain": [
       "array([1577674.81495496, 1615607.18117972, 1624965.73115326,\n",
       "       1504792.63696673, 1900869.67819044, 1895608.53701191,\n",
       "       1940147.99699403, 1784049.59385344,  429171.3208327 ,\n",
       "        429171.3208327 ,  476462.237031  ,  381538.23039102,\n",
       "       2254643.74993125, 2284966.9142249 , 2276817.2648911 ,\n",
       "       2246947.1646744 ,  315116.80151721,  307104.2041225 ,\n",
       "        354395.1203208 ,  292939.38777598, 1504869.73307568,\n",
       "       1532094.98178137, 1545764.80985847, 1540946.91796829,\n",
       "        480461.27201673,  511865.68233237, 1024641.07512726,\n",
       "        630988.61610797,  834990.41451775,  837520.31400651,\n",
       "        944757.9883538 ,  875601.46784784,  569251.75477067,\n",
       "        518702.69806546,  600734.10822971,  550772.15040442,\n",
       "       1762827.37321318, 1758896.08861412, 1757504.15017435,\n",
       "       1753736.19018513, 1327071.46304745, 1327071.46304745,\n",
       "       1358553.8165065 , 1281678.8454186 ,  996699.12351848,\n",
       "        997597.84487533, 1022632.84935877, 1029368.50137676,\n",
       "       1935246.99495521, 2000540.81558034, 2042460.22842292,\n",
       "       2234933.25726554, 1988531.21019901, 2101066.70998649,\n",
       "       2075219.44173652, 2051660.50423435,  588044.27917834,\n",
       "        556658.79043884,  582314.15646882,  591717.78435238,\n",
       "        535150.77638076,  553925.20628576, 1073319.509573  ,\n",
       "        563944.13950168,  817044.93407122,  802295.2313125 ,\n",
       "        864218.48195943, 1352783.9419805 , 1073784.87031111,\n",
       "       1043300.17494404, 1101374.00213173, 1082340.13899532,\n",
       "       1376743.00147282, 1344117.6557576 , 1383093.05103846,\n",
       "       1374176.44415718, 2000766.89320692, 2073208.15168234,\n",
       "       2021055.79313709, 2041900.98969213,  840923.44175279,\n",
       "        797262.42633466,  880890.76558193,  748154.14980333,\n",
       "       1022113.10341197, 1006536.27545148, 1046125.86651876,\n",
       "       1027708.95072714, 1241260.63267294, 1228389.41419747,\n",
       "       1286814.38026544, 1363096.48333224, 1304632.74310373,\n",
       "       1293421.6696401 , 1284718.77416889, 1299598.42692326,\n",
       "        898374.76193637,  901965.07095726,  956061.93712312,\n",
       "        946439.52837207, 1108322.82847586, 1105531.21672322,\n",
       "       1121920.46580237, 1161477.88862269, 1683143.8268903 ,\n",
       "       1682704.05524406, 1693844.98957173, 1714385.89570176,\n",
       "       1306161.45341251, 1266718.85155498, 1314569.39220906,\n",
       "       1322048.82823296,  537210.95168895,  553878.89171544,\n",
       "        586004.66261065,  530012.63192991,  485884.42361161,\n",
       "        445786.87377811,  514338.97457435,  443318.24451016,\n",
       "       1395436.00570744, 1380647.20778862, 1423890.55667019,\n",
       "       1352869.826606  , 1119348.75061467, 1042304.58609785,\n",
       "       1194141.65929534, 1156626.92039451,  244400.38647699,\n",
       "        240962.76301113,  240962.76301113,  289613.73572546,\n",
       "        970673.48291666,  951951.75471857,  963705.29203101,\n",
       "        979808.35773003,  907769.98759493,  946330.24680276,\n",
       "        948608.88712893,  945653.11121211,  380215.85520671,\n",
       "        382617.96488343,  389190.50890586,  379714.97072578,\n",
       "        524219.73756511,  524219.73756511,  539165.75452985,\n",
       "        507404.97703309,  422080.02216504,  425529.96409016,\n",
       "        437290.71988065,  442421.13348122, 1462476.2896937 ,\n",
       "       1462476.2896937 , 1470849.76263601, 1454878.22683133,\n",
       "        905817.53986631,  901464.4516726 ,  940072.36784658,\n",
       "        957671.44149013, 1343222.57411864, 1246183.95611457,\n",
       "       1362946.40959603, 1228472.27409016,  538585.96562471,\n",
       "        539488.3964218 ,  538096.45798203,  534328.49799281,\n",
       "        626350.28911047,  632696.0418228 ,  645553.11841626,\n",
       "        647495.10550054,  316502.78542046,  278134.61170476,\n",
       "        281449.9939132 ,  300818.89307048,  771559.34152066,\n",
       "        812176.62920257,  791131.21400833,  772960.22793652])"
      ]
     },
     "execution_count": 51,
     "metadata": {},
     "output_type": "execute_result"
    }
   ],
   "source": [
    "lgbm_reg.fit(X_train_prepared,y_train)\n",
    "prediction=lgbm_reg.predict(test_data_prepared)\n",
    "prediction"
   ]
  },
  {
   "cell_type": "code",
   "execution_count": 52,
   "metadata": {},
   "outputs": [
    {
     "data": {
      "text/html": [
       "<div>\n",
       "<style scoped>\n",
       "    .dataframe tbody tr th:only-of-type {\n",
       "        vertical-align: middle;\n",
       "    }\n",
       "\n",
       "    .dataframe tbody tr th {\n",
       "        vertical-align: top;\n",
       "    }\n",
       "\n",
       "    .dataframe thead th {\n",
       "        text-align: right;\n",
       "    }\n",
       "</style>\n",
       "<table border=\"1\" class=\"dataframe\">\n",
       "  <thead>\n",
       "    <tr style=\"text-align: right;\">\n",
       "      <th></th>\n",
       "      <th>id</th>\n",
       "      <th>Weekly_Sales</th>\n",
       "    </tr>\n",
       "  </thead>\n",
       "  <tbody>\n",
       "    <tr>\n",
       "      <th>0</th>\n",
       "      <td>1</td>\n",
       "      <td>1.577675e+06</td>\n",
       "    </tr>\n",
       "    <tr>\n",
       "      <th>1</th>\n",
       "      <td>2</td>\n",
       "      <td>1.615607e+06</td>\n",
       "    </tr>\n",
       "    <tr>\n",
       "      <th>2</th>\n",
       "      <td>3</td>\n",
       "      <td>1.624966e+06</td>\n",
       "    </tr>\n",
       "    <tr>\n",
       "      <th>3</th>\n",
       "      <td>4</td>\n",
       "      <td>1.504793e+06</td>\n",
       "    </tr>\n",
       "    <tr>\n",
       "      <th>4</th>\n",
       "      <td>5</td>\n",
       "      <td>1.900870e+06</td>\n",
       "    </tr>\n",
       "    <tr>\n",
       "      <th>...</th>\n",
       "      <td>...</td>\n",
       "      <td>...</td>\n",
       "    </tr>\n",
       "    <tr>\n",
       "      <th>175</th>\n",
       "      <td>176</td>\n",
       "      <td>3.008189e+05</td>\n",
       "    </tr>\n",
       "    <tr>\n",
       "      <th>176</th>\n",
       "      <td>177</td>\n",
       "      <td>7.715593e+05</td>\n",
       "    </tr>\n",
       "    <tr>\n",
       "      <th>177</th>\n",
       "      <td>178</td>\n",
       "      <td>8.121766e+05</td>\n",
       "    </tr>\n",
       "    <tr>\n",
       "      <th>178</th>\n",
       "      <td>179</td>\n",
       "      <td>7.911312e+05</td>\n",
       "    </tr>\n",
       "    <tr>\n",
       "      <th>179</th>\n",
       "      <td>180</td>\n",
       "      <td>7.729602e+05</td>\n",
       "    </tr>\n",
       "  </tbody>\n",
       "</table>\n",
       "<p>180 rows × 2 columns</p>\n",
       "</div>"
      ],
      "text/plain": [
       "      id  Weekly_Sales\n",
       "0      1  1.577675e+06\n",
       "1      2  1.615607e+06\n",
       "2      3  1.624966e+06\n",
       "3      4  1.504793e+06\n",
       "4      5  1.900870e+06\n",
       "..   ...           ...\n",
       "175  176  3.008189e+05\n",
       "176  177  7.715593e+05\n",
       "177  178  8.121766e+05\n",
       "178  179  7.911312e+05\n",
       "179  180  7.729602e+05\n",
       "\n",
       "[180 rows x 2 columns]"
      ]
     },
     "execution_count": 52,
     "metadata": {},
     "output_type": "execute_result"
    }
   ],
   "source": [
    "sample_submission['Weekly_Sales']=prediction\n",
    "sample_submission"
   ]
  },
  {
   "cell_type": "code",
   "execution_count": 53,
   "metadata": {},
   "outputs": [],
   "source": [
    "sample_submission.to_csv('submission0721_lgbm.csv',index=False)"
   ]
  },
  {
   "cell_type": "code",
   "execution_count": 54,
   "metadata": {},
   "outputs": [
    {
     "data": {
      "text/html": [
       "<div>\n",
       "<style scoped>\n",
       "    .dataframe tbody tr th:only-of-type {\n",
       "        vertical-align: middle;\n",
       "    }\n",
       "\n",
       "    .dataframe tbody tr th {\n",
       "        vertical-align: top;\n",
       "    }\n",
       "\n",
       "    .dataframe thead th {\n",
       "        text-align: right;\n",
       "    }\n",
       "</style>\n",
       "<table border=\"1\" class=\"dataframe\">\n",
       "  <thead>\n",
       "    <tr style=\"text-align: right;\">\n",
       "      <th></th>\n",
       "      <th>id</th>\n",
       "      <th>Weekly_Sales</th>\n",
       "    </tr>\n",
       "  </thead>\n",
       "  <tbody>\n",
       "    <tr>\n",
       "      <th>0</th>\n",
       "      <td>1</td>\n",
       "      <td>1.577675e+06</td>\n",
       "    </tr>\n",
       "    <tr>\n",
       "      <th>1</th>\n",
       "      <td>2</td>\n",
       "      <td>1.615607e+06</td>\n",
       "    </tr>\n",
       "    <tr>\n",
       "      <th>2</th>\n",
       "      <td>3</td>\n",
       "      <td>1.624966e+06</td>\n",
       "    </tr>\n",
       "    <tr>\n",
       "      <th>3</th>\n",
       "      <td>4</td>\n",
       "      <td>1.504793e+06</td>\n",
       "    </tr>\n",
       "    <tr>\n",
       "      <th>4</th>\n",
       "      <td>5</td>\n",
       "      <td>1.900870e+06</td>\n",
       "    </tr>\n",
       "    <tr>\n",
       "      <th>...</th>\n",
       "      <td>...</td>\n",
       "      <td>...</td>\n",
       "    </tr>\n",
       "    <tr>\n",
       "      <th>175</th>\n",
       "      <td>176</td>\n",
       "      <td>3.008189e+05</td>\n",
       "    </tr>\n",
       "    <tr>\n",
       "      <th>176</th>\n",
       "      <td>177</td>\n",
       "      <td>7.715593e+05</td>\n",
       "    </tr>\n",
       "    <tr>\n",
       "      <th>177</th>\n",
       "      <td>178</td>\n",
       "      <td>8.121766e+05</td>\n",
       "    </tr>\n",
       "    <tr>\n",
       "      <th>178</th>\n",
       "      <td>179</td>\n",
       "      <td>7.911312e+05</td>\n",
       "    </tr>\n",
       "    <tr>\n",
       "      <th>179</th>\n",
       "      <td>180</td>\n",
       "      <td>7.729602e+05</td>\n",
       "    </tr>\n",
       "  </tbody>\n",
       "</table>\n",
       "<p>180 rows × 2 columns</p>\n",
       "</div>"
      ],
      "text/plain": [
       "      id  Weekly_Sales\n",
       "0      1  1.577675e+06\n",
       "1      2  1.615607e+06\n",
       "2      3  1.624966e+06\n",
       "3      4  1.504793e+06\n",
       "4      5  1.900870e+06\n",
       "..   ...           ...\n",
       "175  176  3.008189e+05\n",
       "176  177  7.715593e+05\n",
       "177  178  8.121766e+05\n",
       "178  179  7.911312e+05\n",
       "179  180  7.729602e+05\n",
       "\n",
       "[180 rows x 2 columns]"
      ]
     },
     "execution_count": 54,
     "metadata": {},
     "output_type": "execute_result"
    }
   ],
   "source": [
    "sample_submission"
   ]
  },
  {
   "cell_type": "code",
   "execution_count": null,
   "metadata": {},
   "outputs": [],
   "source": []
  }
 ],
 "metadata": {
  "kernelspec": {
   "display_name": "Python 3.9.6 64-bit",
   "language": "python",
   "name": "python3"
  },
  "language_info": {
   "codemirror_mode": {
    "name": "ipython",
    "version": 3
   },
   "file_extension": ".py",
   "mimetype": "text/x-python",
   "name": "python",
   "nbconvert_exporter": "python",
   "pygments_lexer": "ipython3",
   "version": "3.9.6"
  },
  "orig_nbformat": 4,
  "vscode": {
   "interpreter": {
    "hash": "6fff98fc3b3d81bd655c2cc48858186e4d9e2db7b515bf1c3221888f12a62f87"
   }
  }
 },
 "nbformat": 4,
 "nbformat_minor": 2
}
